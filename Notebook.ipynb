{
 "cells": [
  {
   "cell_type": "code",
   "execution_count": 1,
   "id": "ce3bf50c-7de4-47b4-98ae-e46f37a8b87b",
   "metadata": {},
   "outputs": [],
   "source": [
    "import re\n",
    "import cv2\n",
    "import pytesseract\n",
    "from pytesseract import Output"
   ]
  },
  {
   "cell_type": "code",
   "execution_count": 2,
   "id": "eabeb53b-b6ae-4625-9e2b-0521a0c79835",
   "metadata": {},
   "outputs": [
    {
     "ename": "AttributeError",
     "evalue": "'list' object has no attribute 'split'",
     "output_type": "error",
     "traceback": [
      "\u001b[0;31m---------------------------------------------------------------------------\u001b[0m",
      "\u001b[0;31mAttributeError\u001b[0m                            Traceback (most recent call last)",
      "Input \u001b[0;32mIn [2]\u001b[0m, in \u001b[0;36m<module>\u001b[0;34m\u001b[0m\n\u001b[1;32m      1\u001b[0m file_name \u001b[38;5;241m=\u001b[39m \u001b[38;5;124m'\u001b[39m\u001b[38;5;124mARSE.png\u001b[39m\u001b[38;5;124m'\u001b[39m\n\u001b[0;32m----> 2\u001b[0m gene_name \u001b[38;5;241m=\u001b[39m \u001b[43mfile_name\u001b[49m\u001b[38;5;241;43m.\u001b[39;49m\u001b[43msplit\u001b[49m\u001b[43m(\u001b[49m\u001b[38;5;124;43m\"\u001b[39;49m\u001b[38;5;124;43m.\u001b[39;49m\u001b[38;5;124;43m\"\u001b[39;49m\u001b[43m)\u001b[49m\u001b[38;5;241;43m.\u001b[39;49m\u001b[43msplit\u001b[49m(\u001b[38;5;124m\"\u001b[39m\u001b[38;5;124m_\u001b[39m\u001b[38;5;124m\"\u001b[39m)[\u001b[38;5;241m0\u001b[39m]\n\u001b[1;32m      3\u001b[0m \u001b[38;5;28mprint\u001b[39m(gene_name)\n",
      "\u001b[0;31mAttributeError\u001b[0m: 'list' object has no attribute 'split'"
     ]
    }
   ],
   "source": [
    "file_name = \"ARSE.png\"\n",
    "gene_name = file_name.split(\".\").split(\"_\")[0]\n",
    "print(gene_name)"
   ]
  },
  {
   "cell_type": "code",
   "execution_count": 3,
   "id": "26a75dfc-b288-4d2b-8151-96fcda22041e",
   "metadata": {},
   "outputs": [
    {
     "ename": "AttributeError",
     "evalue": "'list' object has no attribute 'split'",
     "output_type": "error",
     "traceback": [
      "\u001b[0;31m---------------------------------------------------------------------------\u001b[0m",
      "\u001b[0;31mAttributeError\u001b[0m                            Traceback (most recent call last)",
      "Input \u001b[0;32mIn [3]\u001b[0m, in \u001b[0;36m<module>\u001b[0;34m\u001b[0m\n\u001b[1;32m      1\u001b[0m file_name \u001b[38;5;241m=\u001b[39m \u001b[38;5;124m\"\u001b[39m\u001b[38;5;124mARSE.png\u001b[39m\u001b[38;5;124m\"\u001b[39m\n\u001b[0;32m----> 2\u001b[0m gene_name \u001b[38;5;241m=\u001b[39m \u001b[43mfile_name\u001b[49m\u001b[38;5;241;43m.\u001b[39;49m\u001b[43msplit\u001b[49m\u001b[43m(\u001b[49m\u001b[38;5;124;43m\"\u001b[39;49m\u001b[38;5;124;43m.\u001b[39;49m\u001b[38;5;124;43m\"\u001b[39;49m\u001b[43m)\u001b[49m\u001b[38;5;241;43m.\u001b[39;49m\u001b[43msplit\u001b[49m(\u001b[38;5;124m\"\u001b[39m\u001b[38;5;124m_\u001b[39m\u001b[38;5;124m\"\u001b[39m)[\u001b[38;5;241m0\u001b[39m]\n\u001b[1;32m      3\u001b[0m \u001b[38;5;28mprint\u001b[39m(gene_name)\n",
      "\u001b[0;31mAttributeError\u001b[0m: 'list' object has no attribute 'split'"
     ]
    }
   ],
   "source": [
    "file_name = \"ARSE.png\"\n",
    "gene_name = file_name.split(\".\").split(\"_\")[0]\n",
    "print(gene_name)"
   ]
  },
  {
   "cell_type": "code",
   "execution_count": 4,
   "id": "88c6639d-2aaf-4d01-9980-af14b81064f2",
   "metadata": {},
   "outputs": [
    {
     "ename": "NameError",
     "evalue": "name 'gene_name' is not defined",
     "output_type": "error",
     "traceback": [
      "\u001b[0;31m---------------------------------------------------------------------------\u001b[0m",
      "\u001b[0;31mNameError\u001b[0m                                 Traceback (most recent call last)",
      "Input \u001b[0;32mIn [4]\u001b[0m, in \u001b[0;36m<module>\u001b[0;34m\u001b[0m\n\u001b[1;32m      1\u001b[0m file_name \u001b[38;5;241m=\u001b[39m \u001b[38;5;124m\"\u001b[39m\u001b[38;5;124mARSE.png\u001b[39m\u001b[38;5;124m\"\u001b[39m\n\u001b[0;32m----> 2\u001b[0m \u001b[38;5;28mprint\u001b[39m(\u001b[43mgene_name\u001b[49m)\n",
      "\u001b[0;31mNameError\u001b[0m: name 'gene_name' is not defined"
     ]
    }
   ],
   "source": [
    "file_name = \"ARSE.png\"\n",
    "print(gene_name)"
   ]
  },
  {
   "cell_type": "code",
   "execution_count": 5,
   "id": "9899b6ab-65b4-487a-8495-85aef4ccda2f",
   "metadata": {},
   "outputs": [
    {
     "name": "stdout",
     "output_type": "stream",
     "text": [
      "ARSE.png\n"
     ]
    }
   ],
   "source": [
    "file_name = \"ARSE.png\"\n",
    "print(file_name)"
   ]
  },
  {
   "cell_type": "code",
   "execution_count": 6,
   "id": "231ef738-8217-4ea3-b980-5446c6366f01",
   "metadata": {},
   "outputs": [
    {
     "name": "stdout",
     "output_type": "stream",
     "text": [
      "A\n"
     ]
    }
   ],
   "source": [
    "print(file_name[0])"
   ]
  },
  {
   "cell_type": "code",
   "execution_count": 7,
   "id": "de2041c4-1fe2-44f7-bfa3-7df4c7c9b78f",
   "metadata": {},
   "outputs": [],
   "source": [
    "gene_name = file_name.split(\".\")"
   ]
  },
  {
   "cell_type": "code",
   "execution_count": 8,
   "id": "e9c0efb4-349c-4491-b816-46da6a4041f3",
   "metadata": {},
   "outputs": [
    {
     "name": "stdout",
     "output_type": "stream",
     "text": [
      "['ARSE', 'png']\n"
     ]
    }
   ],
   "source": [
    "print(gene_name)"
   ]
  },
  {
   "cell_type": "code",
   "execution_count": 9,
   "id": "d5f32e72-5519-4878-b862-ed2e3fa595bf",
   "metadata": {},
   "outputs": [],
   "source": [
    "gene_name = file_name.split(\".\")[0].split(\"_\")[0]"
   ]
  },
  {
   "cell_type": "code",
   "execution_count": 10,
   "id": "73d2e3b3-0b3b-4352-8870-aad31d52cf7a",
   "metadata": {},
   "outputs": [
    {
     "name": "stdout",
     "output_type": "stream",
     "text": [
      "ARSE\n"
     ]
    }
   ],
   "source": [
    "print(gene_name)"
   ]
  },
  {
   "cell_type": "code",
   "execution_count": 11,
   "id": "f4a04903-20e4-4c62-bbcd-61d9de1960ef",
   "metadata": {},
   "outputs": [],
   "source": [
    "img = cv2.imread(file_name)\n",
    "d = pytesseract.image_to_data(img, output_type=Output.DICT)\n",
    "keys = list(d.keys())"
   ]
  },
  {
   "cell_type": "code",
   "execution_count": 12,
   "id": "9f3c0be6-87e4-493d-9b5b-d12d4d6c3896",
   "metadata": {},
   "outputs": [],
   "source": [
    "n_boxes = len(d['text'])\n",
    "for i in range(n_boxes):\n",
    "    if gene_name in d['text'][i]:\n",
    "        (x, y, w, h) = (d['left'][i], d['top'][i], d['width'][i], d['height'][i])\n",
    "        img = cv2.rectangle(img, (x, y), (x + w, y + h), (0, 255, 0), 2)"
   ]
  },
  {
   "cell_type": "code",
   "execution_count": 13,
   "id": "acbb0685-cce5-4a23-97c5-76cdb89e3eea",
   "metadata": {},
   "outputs": [
    {
     "data": {
      "text/plain": [
       "True"
      ]
     },
     "execution_count": 13,
     "metadata": {},
     "output_type": "execute_result"
    }
   ],
   "source": [
    "cv2.imwrite('img.png', img)"
   ]
  },
  {
   "cell_type": "code",
   "execution_count": 14,
   "id": "b3927b9a-ff8c-45d5-95de-8a7cdca1ea01",
   "metadata": {},
   "outputs": [],
   "source": [
    "file_name = \"KCNQ1_1.png\""
   ]
  },
  {
   "cell_type": "code",
   "execution_count": 15,
   "id": "da51dde5-6a68-472b-b824-af131c08a1c9",
   "metadata": {},
   "outputs": [],
   "source": [
    "def label_image(file_name):\n",
    "    gene_name = file_name.split(\".\").split(\"_\")[0]\n",
    "    \n",
    "    img = cv2.imread(file_name)\n",
    "    d = pytesseract.image_to_data(img, output_type=Output.DICT)\n",
    "    keys = list(d.keys())\n",
    "    \n",
    "    n_boxes = len(d['text'])\n",
    "    for i in range(n_boxes):\n",
    "        if gene_name in d['text'][i]:\n",
    "            (x, y, w, h) = (d['left'][i], d['top'][i], d['width'][i], d['height'][i])\n",
    "            img = cv2.rectangle(img, (x, y), (x + w, y + h), (0, 255, 0), 2)\n",
    "            \n",
    "    cv2.imwrite('output.png', img)"
   ]
  },
  {
   "cell_type": "code",
   "execution_count": 16,
   "id": "b76d291a-e110-4f09-b338-2bda91aeef02",
   "metadata": {},
   "outputs": [
    {
     "ename": "AttributeError",
     "evalue": "'list' object has no attribute 'split'",
     "output_type": "error",
     "traceback": [
      "\u001b[0;31m---------------------------------------------------------------------------\u001b[0m",
      "\u001b[0;31mAttributeError\u001b[0m                            Traceback (most recent call last)",
      "Input \u001b[0;32mIn [16]\u001b[0m, in \u001b[0;36m<module>\u001b[0;34m\u001b[0m\n\u001b[0;32m----> 1\u001b[0m \u001b[43mlabel_image\u001b[49m\u001b[43m(\u001b[49m\u001b[43mfile_name\u001b[49m\u001b[43m)\u001b[49m\n",
      "Input \u001b[0;32mIn [15]\u001b[0m, in \u001b[0;36mlabel_image\u001b[0;34m(file_name)\u001b[0m\n\u001b[1;32m      1\u001b[0m \u001b[38;5;28;01mdef\u001b[39;00m \u001b[38;5;21mlabel_image\u001b[39m(file_name):\n\u001b[0;32m----> 2\u001b[0m     gene_name \u001b[38;5;241m=\u001b[39m \u001b[43mfile_name\u001b[49m\u001b[38;5;241;43m.\u001b[39;49m\u001b[43msplit\u001b[49m\u001b[43m(\u001b[49m\u001b[38;5;124;43m\"\u001b[39;49m\u001b[38;5;124;43m.\u001b[39;49m\u001b[38;5;124;43m\"\u001b[39;49m\u001b[43m)\u001b[49m\u001b[38;5;241;43m.\u001b[39;49m\u001b[43msplit\u001b[49m(\u001b[38;5;124m\"\u001b[39m\u001b[38;5;124m_\u001b[39m\u001b[38;5;124m\"\u001b[39m)[\u001b[38;5;241m0\u001b[39m]\n\u001b[1;32m      4\u001b[0m     img \u001b[38;5;241m=\u001b[39m cv2\u001b[38;5;241m.\u001b[39mimread(file_name)\n\u001b[1;32m      5\u001b[0m     d \u001b[38;5;241m=\u001b[39m pytesseract\u001b[38;5;241m.\u001b[39mimage_to_data(img, output_type\u001b[38;5;241m=\u001b[39mOutput\u001b[38;5;241m.\u001b[39mDICT)\n",
      "\u001b[0;31mAttributeError\u001b[0m: 'list' object has no attribute 'split'"
     ]
    }
   ],
   "source": [
    "label_image(file_name)"
   ]
  },
  {
   "cell_type": "code",
   "execution_count": 17,
   "id": "fb9ff63c-d9ba-4253-8db9-3a7de8f1e9c1",
   "metadata": {},
   "outputs": [],
   "source": [
    "def label_image(file_name):\n",
    "    gene_name = file_name.split(\".\")[0].split(\"_\")[0]\n",
    "    \n",
    "    img = cv2.imread(file_name)\n",
    "    d = pytesseract.image_to_data(img, output_type=Output.DICT)\n",
    "    keys = list(d.keys())\n",
    "    \n",
    "    n_boxes = len(d['text'])\n",
    "    for i in range(n_boxes):\n",
    "        if gene_name in d['text'][i]:\n",
    "            (x, y, w, h) = (d['left'][i], d['top'][i], d['width'][i], d['height'][i])\n",
    "            img = cv2.rectangle(img, (x, y), (x + w, y + h), (0, 255, 0), 2)\n",
    "            \n",
    "    cv2.imwrite('output.png', img)"
   ]
  },
  {
   "cell_type": "code",
   "execution_count": 18,
   "id": "b9b7b12b-8b6a-4d81-818a-b06ddedaeb57",
   "metadata": {},
   "outputs": [],
   "source": [
    "label_image(file_name)"
   ]
  },
  {
   "cell_type": "code",
   "execution_count": 19,
   "id": "9fa519e1-34f9-4fd1-b73d-62b50c83a397",
   "metadata": {},
   "outputs": [],
   "source": [
    "label_image('CACNA1A.png')"
   ]
  },
  {
   "cell_type": "code",
   "execution_count": 20,
   "id": "ea5a8301-214c-4eb2-ae99-93831e0f9ca0",
   "metadata": {},
   "outputs": [],
   "source": [
    "label_image('PALB2.png')"
   ]
  },
  {
   "cell_type": "code",
   "execution_count": null,
   "id": "f23d8d5a-14a4-4300-ad37-4896209df54b",
   "metadata": {},
   "outputs": [],
   "source": []
  }
 ],
 "metadata": {
  "kernelspec": {
   "display_name": "Python 3 (ipykernel)",
   "language": "python",
   "name": "python3"
  },
  "language_info": {
   "codemirror_mode": {
    "name": "ipython",
    "version": 3
   },
   "file_extension": ".py",
   "mimetype": "text/x-python",
   "name": "python",
   "nbconvert_exporter": "python",
   "pygments_lexer": "ipython3",
   "version": "3.9.10"
  }
 },
 "nbformat": 4,
 "nbformat_minor": 5
}
