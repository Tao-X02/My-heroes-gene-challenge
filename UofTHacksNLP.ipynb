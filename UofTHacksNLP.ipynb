{
 "cells": [
  {
   "cell_type": "code",
   "execution_count": 1,
   "metadata": {},
   "outputs": [],
   "source": [
    "from PIL import Image\n",
    "from pytesseract import pytesseract"
   ]
  },
  {
   "cell_type": "code",
   "execution_count": 52,
   "metadata": {},
   "outputs": [],
   "source": [
    "path_to_tesseract = r\"C:\\Program Files\\Tesseract-OCR\\tesseract.exe\"\n",
    "image_path = r\"C:\\Users\\Paula\\UofTHacks\\dataset\\VarientxUofTHacks Gene Resource\\ATM_1.png\""
   ]
  },
  {
   "cell_type": "code",
   "execution_count": 53,
   "metadata": {},
   "outputs": [],
   "source": [
    "img = Image.open(image_path)"
   ]
  },
  {
   "cell_type": "code",
   "execution_count": 54,
   "metadata": {},
   "outputs": [],
   "source": [
    "pytesseract.tesseract_cmd = path_to_tesseract"
   ]
  },
  {
   "cell_type": "code",
   "execution_count": 55,
   "metadata": {
    "scrolled": true
   },
   "outputs": [],
   "source": [
    "text = pytesseract.image_to_string(img)"
   ]
  },
  {
   "cell_type": "code",
   "execution_count": 56,
   "metadata": {},
   "outputs": [
    {
     "name": "stdout",
     "output_type": "stream",
     "text": [
      "semad\n",
      "\n",
      "Hereditary Cancer\n",
      "\n",
      "John Doe\n",
      "\n",
      "Date of Birth: MM/DD/YYYY\n",
      "‘Sema ID: 300000000000\n",
      "\n",
      "Patient Information Referring Provider\n",
      "Name: John Doe Snerd, Mortimer MD\n",
      "Date of Birth: 02/02/1990 Date Collected: 09/24/2019 Test Line\n",
      "\n",
      "Semag ID: 19197240 Date Received: 09/24/2019 New York NY. 10029\n",
      "Client ID: Not Provided Final Report: 10/09/2019 Fax 11222\n",
      "\n",
      "Indication: Family History\n",
      "\n",
      "Sema4 Signal Hereditary Cancer\n",
      "High Prevalence Panel (35 genes)\n",
      "\n",
      "SUMMARY OF RESULTS\n",
      "\n",
      "© Positive\n",
      "\n",
      "Pathogenic variant detected in ATM\n",
      "Increased risk of developing cancer and/or tumors such as breast cancer\n",
      "\n",
      "The following pathogenic variant in ATM was identified in this patient. This is associated with susceptibility to\n",
      "breast cancer (ATM-related). Please note that additional genetic and/or environmental factors may also\n",
      "influence cancer susceptibility.\n",
      "\n",
      "Gene & Transcript VariantNomenclature __Zygosity Classification Disease Inheritance\n",
      "\n",
      "‘Susceptibility to Breast\n",
      "Pathogenic Cancer (ATM-related) /\n",
      "Ataxia-Telangiectasia\n",
      "\n",
      "AT™ c217_218delGA Heterozygous\n",
      "NM_0000513 PE73MfsX26 (one copy)\n",
      "\n",
      "Autosomal Dominant/\n",
      "‘Autosomal Recessive\n",
      "\n",
      "Cancer Risks and Recommendations\n",
      "\n",
      "+ Female breast cancer: Approximately 2-4 times higher than the general population lifetime risk”\n",
      "+ Other cancers (such as ovarian, pancreatic and prostate): Potentially increased compared to the general.\n",
      "‘Cancer Risks population risk,\n",
      "\n",
      "“There are some rare missense alterations that are associated with higher breast cancer risk\n",
      "\n",
      "+ There are medical management recommendations for certain cancer risks published by the National\n",
      "Management Comprehensive Cancer Network (NCCN)\n",
      "Options +A personalized medical management plan should be discussed with a qualified clinician\n",
      "\n",
      "+ Genetic counseling is recommended.\n",
      "\n",
      "+Family members may be at risk of carrying the same genetic variant\n",
      "\n",
      "fara ions + Genetic testing may be indicated\n",
      "\n",
      "PI + Genetic counseling is recommended\n",
      "Acres 1428 Madison Ave Aran Bldg 1 800-208-6470\n",
      "fim2-a5 New Yore NY 10080, Page 10f7 Fate2e-o139\n",
      "\n",
      "‘CUA 3302097544 semaacom\n",
      "\n"
     ]
    }
   ],
   "source": [
    "print(text[:])"
   ]
  },
  {
   "cell_type": "code",
   "execution_count": 57,
   "metadata": {},
   "outputs": [
    {
     "name": "stdout",
     "output_type": "stream",
     "text": [
      "ATM\n"
     ]
    }
   ],
   "source": [
    "import os\n",
    "file_name = os.path.basename(image_path).split('.')[0]\n",
    "if '_' in file_name:\n",
    "    underscore_index = file_name.index('_')\n",
    "    file_name = file_name[:underscore_index]\n",
    "print(file_name)"
   ]
  },
  {
   "cell_type": "code",
   "execution_count": 58,
   "metadata": {},
   "outputs": [
    {
     "name": "stdout",
     "output_type": "stream",
     "text": [
      "['semad', 'Hereditary Cancer', 'John Doe', 'Date of Birth: MM/DD/YYYY\\n‘Sema ID: 300000000000', 'Patient Information Referring Provider\\nName: John Doe Snerd, Mortimer MD\\nDate of Birth: 02/02/1990 Date Collected: 09/24/2019 Test Line', 'Semag ID: 19197240 Date Received: 09/24/2019 New York NY. 10029\\nClient ID: Not Provided Final Report: 10/09/2019 Fax 11222', 'Indication: Family History', 'Sema4 Signal Hereditary Cancer\\nHigh Prevalence Panel (35 genes)', 'SUMMARY OF RESULTS', '© Positive', 'Pathogenic variant detected in ATM\\nIncreased risk of developing cancer and/or tumors such as breast cancer', 'The following pathogenic variant in ATM was identified in this patient. This is associated with susceptibility to\\nbreast cancer (ATM-related). Please note that additional genetic and/or environmental factors may also\\ninfluence cancer susceptibility.', 'Gene & Transcript VariantNomenclature __Zygosity Classification Disease Inheritance', '‘Susceptibility to Breast\\nPathogenic Cancer (ATM-related) /\\nAtaxia-Telangiectasia', 'AT™ c217_218delGA Heterozygous\\nNM_0000513 PE73MfsX26 (one copy)', 'Autosomal Dominant/\\n‘Autosomal Recessive', 'Cancer Risks and Recommendations', '+ Female breast cancer: Approximately 2-4 times higher than the general population lifetime risk”\\n+ Other cancers (such as ovarian, pancreatic and prostate): Potentially increased compared to the general.\\n‘Cancer Risks population risk,', '“There are some rare missense alterations that are associated with higher breast cancer risk', '+ There are medical management recommendations for certain cancer risks published by the National\\nManagement Comprehensive Cancer Network (NCCN)\\nOptions +A personalized medical management plan should be discussed with a qualified clinician', '+ Genetic counseling is recommended.', '+Family members may be at risk of carrying the same genetic variant', 'fara ions + Genetic testing may be indicated', 'PI + Genetic counseling is recommended\\nAcres 1428 Madison Ave Aran Bldg 1 800-208-6470\\nfim2-a5 New Yore NY 10080, Page 10f7 Fate2e-o139', '‘CUA 3302097544 semaacom\\n']\n"
     ]
    }
   ],
   "source": [
    "line_list = []\n",
    "paragraphs = text.split('\\n\\n')\n",
    "print(paragraphs)"
   ]
  },
  {
   "cell_type": "code",
   "execution_count": 62,
   "metadata": {},
   "outputs": [
    {
     "name": "stdout",
     "output_type": "stream",
     "text": [
      "['SUMMARY OF RESULTS', '© Positive', 'Pathogenic variant detected in ATM\\nIncreased risk of developing cancer and/or tumors such as breast cancer', 'The following pathogenic variant in ATM was identified in this patient. This is associated with susceptibility to\\nbreast cancer (ATM-related). Please note that additional genetic and/or environmental factors may also\\ninfluence cancer susceptibility.', 'Gene & Transcript VariantNomenclature __Zygosity Classification Disease Inheritance', '‘Susceptibility to Breast\\nPathogenic Cancer (ATM-related) /\\nAtaxia-Telangiectasia', 'AT™ c217_218delGA Heterozygous\\nNM_0000513 PE73MfsX26 (one copy)', 'Autosomal Dominant/\\n‘Autosomal Recessive', 'Cancer Risks and Recommendations', '+ Female breast cancer: Approximately 2-4 times higher than the general population lifetime risk”\\n+ Other cancers (such as ovarian, pancreatic and prostate): Potentially increased compared to the general.\\n‘Cancer Risks population risk,', '“There are some rare missense alterations that are associated with higher breast cancer risk', '+ There are medical management recommendations for certain cancer risks published by the National\\nManagement Comprehensive Cancer Network (NCCN)\\nOptions +A personalized medical management plan should be discussed with a qualified clinician', '+ Genetic counseling is recommended.', '+Family members may be at risk of carrying the same genetic variant', 'fara ions + Genetic testing may be indicated', 'PI + Genetic counseling is recommended\\nAcres 1428 Madison Ave Aran Bldg 1 800-208-6470\\nfim2-a5 New Yore NY 10080, Page 10f7 Fate2e-o139', '‘CUA 3302097544 semaacom\\n']\n"
     ]
    }
   ],
   "source": [
    "for item in paragraphs:\n",
    "    if ('result' or 'summary' or 'gene') in item.lower():\n",
    "        result_index = paragraphs.index(item)\n",
    "        break\n",
    "\n",
    "results = paragraphs[result_index:]\n",
    "print(results)"
   ]
  },
  {
   "cell_type": "code",
   "execution_count": 63,
   "metadata": {
    "scrolled": true
   },
   "outputs": [
    {
     "name": "stdout",
     "output_type": "stream",
     "text": [
      "SUMMARY OF RESULTS\n",
      "\n",
      "© Positive\n",
      "\n",
      "Pathogenic variant detected in ATM\n",
      "Increased risk of developing cancer and/or tumors such as breast cancer\n",
      "\n",
      "The following pathogenic variant in ATM was identified in this patient. This is associated with susceptibility to\n",
      "breast cancer (ATM-related). Please note that additional genetic and/or environmental factors may also\n",
      "influence cancer susceptibility.\n",
      "\n",
      "Gene & Transcript VariantNomenclature __Zygosity Classification Disease Inheritance\n",
      "\n",
      "‘Susceptibility to Breast\n",
      "Pathogenic Cancer (ATM-related) /\n",
      "Ataxia-Telangiectasia\n",
      "\n",
      "AT™ c217_218delGA Heterozygous\n",
      "NM_0000513 PE73MfsX26 (one copy)\n",
      "\n",
      "Autosomal Dominant/\n",
      "‘Autosomal Recessive\n",
      "\n",
      "Cancer Risks and Recommendations\n",
      "\n",
      "+ Female breast cancer: Approximately 2-4 times higher than the general population lifetime risk”\n",
      "+ Other cancers (such as ovarian, pancreatic and prostate): Potentially increased compared to the general.\n",
      "‘Cancer Risks population risk,\n",
      "\n",
      "“There are some rare missense alterations that are associated with higher breast cancer risk\n",
      "\n",
      "+ There are medical management recommendations for certain cancer risks published by the National\n",
      "Management Comprehensive Cancer Network (NCCN)\n",
      "Options +A personalized medical management plan should be discussed with a qualified clinician\n",
      "\n",
      "+ Genetic counseling is recommended.\n",
      "\n",
      "+Family members may be at risk of carrying the same genetic variant\n",
      "\n",
      "fara ions + Genetic testing may be indicated\n",
      "\n",
      "PI + Genetic counseling is recommended\n",
      "Acres 1428 Madison Ave Aran Bldg 1 800-208-6470\n",
      "fim2-a5 New Yore NY 10080, Page 10f7 Fate2e-o139\n",
      "\n",
      "‘CUA 3302097544 semaacom\n",
      "\n"
     ]
    }
   ],
   "source": [
    "results_paragraphs = '\\n\\n'.join(results)\n",
    "print(results_paragraphs)"
   ]
  },
  {
   "cell_type": "code",
   "execution_count": 64,
   "metadata": {},
   "outputs": [
    {
     "name": "stdout",
     "output_type": "stream",
     "text": [
      "ATM mutation\n"
     ]
    }
   ],
   "source": [
    "if file_name in results_paragraphs:\n",
    "    print(f\"{file_name} mutation\")\n",
    "else:\n",
    "    print(\"negative\")"
   ]
  },
  {
   "cell_type": "code",
   "execution_count": 68,
   "metadata": {},
   "outputs": [
    {
     "name": "stdout",
     "output_type": "stream",
     "text": [
      "(Pathogenic variant, detected, ATM, Increased, risk, cancer, tumors, breast cancer, pathogenic, ATM, identified, patient, associated with, susceptibility, breast cancer, ATM-related, genetic, environmental factors, influence, cancer susceptibility, Transcript, VariantNomenclature, Susceptibility, Breast\n",
      "Pathogenic Cancer, ATM-related, PE73MfsX26, copy)\n",
      "\n",
      "Autosomal Dominant/\n",
      "‘Autosomal Recessive\n",
      "\n",
      "Cancer, Risks, Recommendations, Female breast cancer, general population, cancers, ovarian, pancreatic, prostate, increased, Risks population risk, missense, alterations, associated with, breast cancer, risk, medical management, recommendations, cancer, risks, published, National\n",
      "Management Comprehensive Cancer Network (NCCN)\n",
      "Options +A, personalized medical management, plan, clinician, Genetic counseling, recommended, Family members, risk, genetic variant, Genetic testing, PI, Genetic counseling)\n"
     ]
    }
   ],
   "source": [
    "import spacy\n",
    "nlp = spacy.load(\"en_core_sci_lg\")\n",
    "text = results_paragraphs\n",
    "doc = nlp(text)\n",
    "\n",
    "words = doc.ents\n",
    "print(words)"
   ]
  },
  {
   "cell_type": "code",
   "execution_count": 66,
   "metadata": {},
   "outputs": [
    {
     "data": {
      "text/plain": [
       "tuple"
      ]
     },
     "execution_count": 66,
     "metadata": {},
     "output_type": "execute_result"
    }
   ],
   "source": [
    "type(doc.ents)"
   ]
  },
  {
   "cell_type": "code",
   "execution_count": 72,
   "metadata": {},
   "outputs": [
    {
     "name": "stdout",
     "output_type": "stream",
     "text": [
      "['detected', 'ATM', 'Increased', 'risk', 'cancer', 'tumors', 'pathogenic', 'ATM', 'identified', 'patient', 'susceptibility', 'ATM-related', 'genetic', 'influence', 'Transcript', 'VariantNomenclature', 'Susceptibility', 'ATM-related', 'PE73MfsX26', 'Risks', 'Recommendations', 'cancers', 'ovarian', 'pancreatic', 'prostate', 'increased', 'missense', 'alterations', 'risk', 'recommendations', 'cancer', 'risks', 'published', 'plan', 'clinician', 'recommended', 'risk', 'PI']\n"
     ]
    }
   ],
   "source": [
    "keywords = []\n",
    "for word in words:\n",
    "    if \" \" not in str(word):\n",
    "        keywords.append(str(word))\n",
    "\n",
    "print(keywords)"
   ]
  },
  {
   "cell_type": "code",
   "execution_count": null,
   "metadata": {},
   "outputs": [],
   "source": []
  },
  {
   "cell_type": "code",
   "execution_count": null,
   "metadata": {},
   "outputs": [],
   "source": []
  },
  {
   "cell_type": "code",
   "execution_count": null,
   "metadata": {},
   "outputs": [],
   "source": []
  },
  {
   "cell_type": "code",
   "execution_count": null,
   "metadata": {},
   "outputs": [],
   "source": []
  },
  {
   "cell_type": "code",
   "execution_count": null,
   "metadata": {},
   "outputs": [],
   "source": []
  },
  {
   "cell_type": "code",
   "execution_count": null,
   "metadata": {},
   "outputs": [],
   "source": []
  },
  {
   "cell_type": "code",
   "execution_count": null,
   "metadata": {},
   "outputs": [],
   "source": []
  }
 ],
 "metadata": {
  "kernelspec": {
   "display_name": "Python 3",
   "language": "python",
   "name": "python3"
  },
  "language_info": {
   "codemirror_mode": {
    "name": "ipython",
    "version": 3
   },
   "file_extension": ".py",
   "mimetype": "text/x-python",
   "name": "python",
   "nbconvert_exporter": "python",
   "pygments_lexer": "ipython3",
   "version": "3.8.5"
  }
 },
 "nbformat": 4,
 "nbformat_minor": 4
}
