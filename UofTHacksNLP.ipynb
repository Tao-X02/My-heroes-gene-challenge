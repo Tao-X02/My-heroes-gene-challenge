{
 "cells": [
  {
   "cell_type": "code",
   "execution_count": 47,
   "metadata": {},
   "outputs": [],
   "source": [
    "from PIL import Image\n",
    "from pytesseract import pytesseract"
   ]
  },
  {
   "cell_type": "code",
   "execution_count": 60,
   "metadata": {},
   "outputs": [],
   "source": [
    "path_to_tesseract = r\"C:\\Program Files\\Tesseract-OCR\\tesseract.exe\"\n",
    "image_path = r\"dataset\\VarientxUofTHacks Gene Resource\\ARSE.png\""
   ]
  },
  {
   "cell_type": "code",
   "execution_count": 61,
   "metadata": {},
   "outputs": [],
   "source": [
    "img = Image.open(image_path)"
   ]
  },
  {
   "cell_type": "code",
   "execution_count": 62,
   "metadata": {},
   "outputs": [],
   "source": [
    "pytesseract.tesseract_cmd = path_to_tesseract"
   ]
  },
  {
   "cell_type": "code",
   "execution_count": 63,
   "metadata": {
    "scrolled": true
   },
   "outputs": [],
   "source": [
    "text = pytesseract.image_to_string(img)"
   ]
  },
  {
   "cell_type": "code",
   "execution_count": 71,
   "metadata": {},
   "outputs": [
    {
     "name": "stdout",
     "output_type": "stream",
     "text": [
      "LABORATORY FOR MOLECULAR MEDICINE Ateaching affliate of:\n",
      "\n",
      "—\n",
      "65 Landsdowne Street, Cambridge, MA 02139 PARTNERS. CENTER FOR PERSONALIZED Hae\n",
      "Phone: (617)768-2500 / Fax: (617)768-8513 TPAAINLINEINO® GENETIC MEDICINE SCHOOL\n",
      "\n",
      "http://pcpgm.partners.org/Imm\n",
      "\n",
      "Name: Accession ID:\n",
      "\n",
      "DOB: MRN: Family #:\n",
      "\n",
      "Sex: Male Specimen: Referring physician:\n",
      "\n",
      "Race: Received: Referring facility: MEDSEQ\n",
      "GENERAL GENOME REPORT\n",
      "\n",
      "RESULT SUMMARY\n",
      "\n",
      "Sequencing of this individual's genome was performed and covered 95.8% of all positions at 8X coverage or higher, resulting in over 5.2 million\n",
      "variants compared to reference genome. These data were analyzed to identify previously reported variants of potential clinical relevance as well as\n",
      "novel variants that could reasonably be assumed to cause disease (see methodology below). All results are summarized on page 1 with further\n",
      "details on subsequent pages.\n",
      "\n",
      "A. MONOGENIC DISEASE RISK: 1 VARIANT IDENTIFIED\n",
      "\n",
      "AL. X-linked recessive Abnormal bone and cartilage ARSE (c.410G>C p.Gly137Ala) Uncertain Significance:\n",
      "chondrodysplasia punctata development Favor pathogenic\n",
      "(X-linked)\n",
      "\n",
      "B. CARRIER RISK: 2 VARIANTS IDENTIFIED\n",
      "This test identified carrier status for 2 autosomal recessive disorders.\n",
      "\n",
      "B1. Methylmalonic aciduria and Disorder of cobalamin MMACHC (c.271_272insA | Pathogenic\n",
      "homocystinuria,cbIC type metabolism p.Arg91LysfsX14)\n",
      "\n",
      "(Automosal recessive)\n",
      "B2. Leber congenital amaurosis\n",
      "(Automosal recessive) Reported\n",
      "As a carrier for recessive genetic variants, this individual is at higher risk for having a child with one or more of these highly penetrant disorders. To\n",
      "determine the risk for this individual's future children to be affected, the partner of this individual would also need to be tested for these variants.\n",
      "Other biologically related family members may also be carriers of these variants. “Carriers for some recessive disorders may be at risk for certain\n",
      "phenotypes. Please see variant descriptions for more information.\n",
      "\n",
      "Reported\n",
      "\n",
      "SPATAT (¢.94+2T>C)\n",
      "\n",
      "Retinal dystrophy and blindness Likely Pathogenic\n",
      "\n",
      "C. PHARMACOGENOMIC ASSOCIATIONS\n",
      "This test identified the following pharmacogenomic associations. Additional pharmacogenomic results may be requested, but will require additional\n",
      "molecular confirmation prior to disclosure.\n",
      "\n",
      "[Drug _____| Riskand Dosing information\n",
      "CL. Warfarin Decreased dose requirement\n",
      "C2. Clopidogrel Typical response to clopidogrel\n",
      "\n",
      "C3. Digoxin Intermediate metabolism and serum concentration of digoxin\n",
      "C4. Metformin Intermediate glycemic response to metformin\n",
      "Typical risk of simvastatin-related myopathy\n",
      "\n",
      "D. BLOOD GROUPS\n",
      "This test identified the ABO Rh blood type as B Positive. Additional blood group information is available at the end of the report.\n",
      "\n",
      "It should be noted that the disease risk section of this report is limited only to variants with strong evidence for causing highly penetrant\n",
      "disease, or contributing to highly penetrant disease in a recessive manner. Not all variants identified have been analyzed, and not all\n",
      "regions of the genome have been adequately sequenced. These results should be interpreted in the context of the patient’s medical\n",
      "evaluation, family history, and racial/ethnic background. Please note that variant classification and/or interpretation may change over\n",
      "time if more information becomes available. For questions about this report, please contact the Genome Resource Center at\n",
      "GRC@partners.org.\n",
      "\n"
     ]
    }
   ],
   "source": [
    "print(text[:-1])"
   ]
  },
  {
   "cell_type": "code",
   "execution_count": 74,
   "metadata": {},
   "outputs": [
    {
     "name": "stdout",
     "output_type": "stream",
     "text": [
      "Processing c:\\users\\paula\\downloads\\en_core_sci_lg-0.4.0.tar.gzNote: you may need to restart the kernel to use updated packages.\n",
      "Requirement already satisfied: spacy<3.1.0,>=3.0.1 in c:\\users\\paula\\anaconda3\\lib\\site-packages (from en-core-sci-lg==0.4.0) (3.0.7)\n",
      "Requirement already satisfied: preshed<3.1.0,>=3.0.2 in c:\\users\\paula\\anaconda3\\lib\\site-packages (from spacy<3.1.0,>=3.0.1->en-core-sci-lg==0.4.0) (3.0.6)\n",
      "Requirement already satisfied: thinc<8.1.0,>=8.0.3 in c:\\users\\paula\\anaconda3\\lib\\site-packages (from spacy<3.1.0,>=3.0.1->en-core-sci-lg==0.4.0) (8.0.13)\n",
      "Requirement already satisfied: pathy>=0.3.5 in c:\\users\\paula\\anaconda3\\lib\\site-packages (from spacy<3.1.0,>=3.0.1->en-core-sci-lg==0.4.0) (0.6.1)\n",
      "\n",
      "Requirement already satisfied: requests<3.0.0,>=2.13.0 in c:\\users\\paula\\anaconda3\\lib\\site-packages (from spacy<3.1.0,>=3.0.1->en-core-sci-lg==0.4.0) (2.24.0)\n",
      "Requirement already satisfied: catalogue<2.1.0,>=2.0.4 in c:\\users\\paula\\anaconda3\\lib\\site-packages (from spacy<3.1.0,>=3.0.1->en-core-sci-lg==0.4.0) (2.0.6)\n",
      "Requirement already satisfied: typer<0.4.0,>=0.3.0 in c:\\users\\paula\\anaconda3\\lib\\site-packages (from spacy<3.1.0,>=3.0.1->en-core-sci-lg==0.4.0) (0.3.2)\n",
      "Requirement already satisfied: pydantic!=1.8,!=1.8.1,<1.9.0,>=1.7.4 in c:\\users\\paula\\anaconda3\\lib\\site-packages (from spacy<3.1.0,>=3.0.1->en-core-sci-lg==0.4.0) (1.8.2)\n",
      "Requirement already satisfied: setuptools in c:\\users\\paula\\anaconda3\\lib\\site-packages (from spacy<3.1.0,>=3.0.1->en-core-sci-lg==0.4.0) (50.3.1.post20201107)\n",
      "Requirement already satisfied: jinja2 in c:\\users\\paula\\anaconda3\\lib\\site-packages (from spacy<3.1.0,>=3.0.1->en-core-sci-lg==0.4.0) (2.11.2)\n",
      "Requirement already satisfied: murmurhash<1.1.0,>=0.28.0 in c:\\users\\paula\\anaconda3\\lib\\site-packages (from spacy<3.1.0,>=3.0.1->en-core-sci-lg==0.4.0) (1.0.6)\n",
      "Requirement already satisfied: tqdm<5.0.0,>=4.38.0 in c:\\users\\paula\\anaconda3\\lib\\site-packages (from spacy<3.1.0,>=3.0.1->en-core-sci-lg==0.4.0) (4.50.2)\n",
      "Requirement already satisfied: numpy>=1.15.0 in c:\\users\\paula\\anaconda3\\lib\\site-packages (from spacy<3.1.0,>=3.0.1->en-core-sci-lg==0.4.0) (1.19.2)\n",
      "Requirement already satisfied: wasabi<1.1.0,>=0.8.1 in c:\\users\\paula\\anaconda3\\lib\\site-packages (from spacy<3.1.0,>=3.0.1->en-core-sci-lg==0.4.0) (0.9.0)\n",
      "Requirement already satisfied: srsly<3.0.0,>=2.4.1 in c:\\users\\paula\\anaconda3\\lib\\site-packages (from spacy<3.1.0,>=3.0.1->en-core-sci-lg==0.4.0) (2.4.2)\n",
      "Requirement already satisfied: blis<0.8.0,>=0.4.0 in c:\\users\\paula\\anaconda3\\lib\\site-packages (from spacy<3.1.0,>=3.0.1->en-core-sci-lg==0.4.0) (0.7.5)\n",
      "Requirement already satisfied: spacy-legacy<3.1.0,>=3.0.5 in c:\\users\\paula\\anaconda3\\lib\\site-packages (from spacy<3.1.0,>=3.0.1->en-core-sci-lg==0.4.0) (3.0.8)\n",
      "Requirement already satisfied: packaging>=20.0 in c:\\users\\paula\\anaconda3\\lib\\site-packages (from spacy<3.1.0,>=3.0.1->en-core-sci-lg==0.4.0) (20.4)\n",
      "Requirement already satisfied: cymem<2.1.0,>=2.0.2 in c:\\users\\paula\\anaconda3\\lib\\site-packages (from spacy<3.1.0,>=3.0.1->en-core-sci-lg==0.4.0) (2.0.6)\n",
      "Requirement already satisfied: smart-open<6.0.0,>=5.0.0 in c:\\users\\paula\\anaconda3\\lib\\site-packages (from pathy>=0.3.5->spacy<3.1.0,>=3.0.1->en-core-sci-lg==0.4.0) (5.2.1)\n",
      "Requirement already satisfied: certifi>=2017.4.17 in c:\\users\\paula\\anaconda3\\lib\\site-packages (from requests<3.0.0,>=2.13.0->spacy<3.1.0,>=3.0.1->en-core-sci-lg==0.4.0) (2020.6.20)\n",
      "Requirement already satisfied: idna<3,>=2.5 in c:\\users\\paula\\anaconda3\\lib\\site-packages (from requests<3.0.0,>=2.13.0->spacy<3.1.0,>=3.0.1->en-core-sci-lg==0.4.0) (2.10)\n",
      "Requirement already satisfied: chardet<4,>=3.0.2 in c:\\users\\paula\\anaconda3\\lib\\site-packages (from requests<3.0.0,>=2.13.0->spacy<3.1.0,>=3.0.1->en-core-sci-lg==0.4.0) (3.0.4)\n",
      "Requirement already satisfied: urllib3!=1.25.0,!=1.25.1,<1.26,>=1.21.1 in c:\\users\\paula\\anaconda3\\lib\\site-packages (from requests<3.0.0,>=2.13.0->spacy<3.1.0,>=3.0.1->en-core-sci-lg==0.4.0) (1.25.11)\n",
      "Requirement already satisfied: click<7.2.0,>=7.1.1 in c:\\users\\paula\\anaconda3\\lib\\site-packages (from typer<0.4.0,>=0.3.0->spacy<3.1.0,>=3.0.1->en-core-sci-lg==0.4.0) (7.1.2)\n",
      "Requirement already satisfied: typing-extensions>=3.7.4.3 in c:\\users\\paula\\anaconda3\\lib\\site-packages (from pydantic!=1.8,!=1.8.1,<1.9.0,>=1.7.4->spacy<3.1.0,>=3.0.1->en-core-sci-lg==0.4.0) (3.7.4.3)\n",
      "Requirement already satisfied: MarkupSafe>=0.23 in c:\\users\\paula\\anaconda3\\lib\\site-packages (from jinja2->spacy<3.1.0,>=3.0.1->en-core-sci-lg==0.4.0) (1.1.1)\n",
      "Requirement already satisfied: pyparsing>=2.0.2 in c:\\users\\paula\\anaconda3\\lib\\site-packages (from packaging>=20.0->spacy<3.1.0,>=3.0.1->en-core-sci-lg==0.4.0) (2.4.7)\n",
      "Requirement already satisfied: six in c:\\users\\paula\\anaconda3\\lib\\site-packages (from packaging>=20.0->spacy<3.1.0,>=3.0.1->en-core-sci-lg==0.4.0) (1.15.0)\n",
      "Building wheels for collected packages: en-core-sci-lg\n",
      "  Building wheel for en-core-sci-lg (setup.py): started\n",
      "  Building wheel for en-core-sci-lg (setup.py): still running...\n",
      "  Building wheel for en-core-sci-lg (setup.py): finished with status 'done'\n",
      "  Created wheel for en-core-sci-lg: filename=en_core_sci_lg-0.4.0-py3-none-any.whl size=538899692 sha256=7e49e938dfc38354da23d93e66a82727516e38108cb07eed62d69604e91a0fc6\n",
      "  Stored in directory: c:\\users\\paula\\appdata\\local\\pip\\cache\\wheels\\cd\\2b\\26\\4dfb9103458f4fcddae92ba76ed80f90a27421df90c666c45c\n",
      "Successfully built en-core-sci-lg\n",
      "Installing collected packages: en-core-sci-lg\n",
      "Successfully installed en-core-sci-lg-0.4.0\n"
     ]
    }
   ],
   "source": [
    "pip install \"C:\\Users\\Paula\\Downloads\\en_core_sci_lg-0.4.0.tar.gz\""
   ]
  },
  {
   "cell_type": "code",
   "execution_count": 93,
   "metadata": {},
   "outputs": [
    {
     "name": "stdout",
     "output_type": "stream",
     "text": [
      "Processing c:\\users\\paula\\downloads\\en_core_sci_md-0.4.0.tar.gz\n",
      "Requirement already satisfied: spacy<3.1.0,>=3.0.1 in c:\\users\\paula\\anaconda3\\lib\\site-packages (from en-core-sci-md==0.4.0) (3.0.7)\n",
      "Requirement already satisfied: thinc<8.1.0,>=8.0.3 in c:\\users\\paula\\anaconda3\\lib\\site-packages (from spacy<3.1.0,>=3.0.1->en-core-sci-md==0.4.0) (8.0.13)\n",
      "Requirement already satisfied: typer<0.4.0,>=0.3.0 in c:\\users\\paula\\anaconda3\\lib\\site-packages (from spacy<3.1.0,>=3.0.1->en-core-sci-md==0.4.0) (0.3.2)\n",
      "Requirement already satisfied: packaging>=20.0 in c:\\users\\paula\\anaconda3\\lib\\site-packages (from spacy<3.1.0,>=3.0.1->en-core-sci-md==0.4.0) (20.4)\n",
      "Requirement already satisfied: pathy>=0.3.5 in c:\\users\\paula\\anaconda3\\lib\\site-packages (from spacy<3.1.0,>=3.0.1->en-core-sci-md==0.4.0) (0.6.1)\n",
      "Requirement already satisfied: blis<0.8.0,>=0.4.0 in c:\\users\\paula\\anaconda3\\lib\\site-packages (from spacy<3.1.0,>=3.0.1->en-core-sci-md==0.4.0) (0.7.5)\n",
      "Requirement already satisfied: preshed<3.1.0,>=3.0.2 in c:\\users\\paula\\anaconda3\\lib\\site-packages (from spacy<3.1.0,>=3.0.1->en-core-sci-md==0.4.0) (3.0.6)\n",
      "Requirement already satisfied: catalogue<2.1.0,>=2.0.4 in c:\\users\\paula\\anaconda3\\lib\\site-packages (from spacy<3.1.0,>=3.0.1->en-core-sci-md==0.4.0) (2.0.6)\n",
      "Requirement already satisfied: cymem<2.1.0,>=2.0.2 in c:\\users\\paula\\anaconda3\\lib\\site-packages (from spacy<3.1.0,>=3.0.1->en-core-sci-md==0.4.0) (2.0.6)\n",
      "Requirement already satisfied: spacy-legacy<3.1.0,>=3.0.5 in c:\\users\\paula\\anaconda3\\lib\\site-packages (from spacy<3.1.0,>=3.0.1->en-core-sci-md==0.4.0) (3.0.8)\n",
      "Requirement already satisfied: numpy>=1.15.0 in c:\\users\\paula\\anaconda3\\lib\\site-packages (from spacy<3.1.0,>=3.0.1->en-core-sci-md==0.4.0) (1.19.2)\n",
      "Requirement already satisfied: requests<3.0.0,>=2.13.0 in c:\\users\\paula\\anaconda3\\lib\\site-packages (from spacy<3.1.0,>=3.0.1->en-core-sci-md==0.4.0) (2.24.0)\n",
      "Requirement already satisfied: wasabi<1.1.0,>=0.8.1 in c:\\users\\paula\\anaconda3\\lib\\site-packages (from spacy<3.1.0,>=3.0.1->en-core-sci-md==0.4.0) (0.9.0)\n",
      "Requirement already satisfied: pydantic!=1.8,!=1.8.1,<1.9.0,>=1.7.4 in c:\\users\\paula\\anaconda3\\lib\\site-packages (from spacy<3.1.0,>=3.0.1->en-core-sci-md==0.4.0) (1.8.2)\n",
      "Requirement already satisfied: jinja2 in c:\\users\\paula\\anaconda3\\lib\\site-packages (from spacy<3.1.0,>=3.0.1->en-core-sci-md==0.4.0) (2.11.2)\n",
      "Requirement already satisfied: tqdm<5.0.0,>=4.38.0 in c:\\users\\paula\\anaconda3\\lib\\site-packages (from spacy<3.1.0,>=3.0.1->en-core-sci-md==0.4.0) (4.50.2)\n",
      "Requirement already satisfied: murmurhash<1.1.0,>=0.28.0 in c:\\users\\paula\\anaconda3\\lib\\site-packages (from spacy<3.1.0,>=3.0.1->en-core-sci-md==0.4.0) (1.0.6)\n",
      "Requirement already satisfied: srsly<3.0.0,>=2.4.1 in c:\\users\\paula\\anaconda3\\lib\\site-packages (from spacy<3.1.0,>=3.0.1->en-core-sci-md==0.4.0) (2.4.2)\n",
      "Requirement already satisfied: setuptools in c:\\users\\paula\\anaconda3\\lib\\site-packages (from spacy<3.1.0,>=3.0.1->en-core-sci-md==0.4.0) (50.3.1.post20201107)\n",
      "Requirement already satisfied: click<7.2.0,>=7.1.1 in c:\\users\\paula\\anaconda3\\lib\\site-packages (from typer<0.4.0,>=0.3.0->spacy<3.1.0,>=3.0.1->en-core-sci-md==0.4.0) (7.1.2)\n",
      "Requirement already satisfied: six in c:\\users\\paula\\anaconda3\\lib\\site-packages (from packaging>=20.0->spacy<3.1.0,>=3.0.1->en-core-sci-md==0.4.0) (1.15.0)\n",
      "Requirement already satisfied: pyparsing>=2.0.2 in c:\\users\\paula\\anaconda3\\lib\\site-packages (from packaging>=20.0->spacy<3.1.0,>=3.0.1->en-core-sci-md==0.4.0) (2.4.7)\n",
      "Requirement already satisfied: smart-open<6.0.0,>=5.0.0 in c:\\users\\paula\\anaconda3\\lib\\site-packages (from pathy>=0.3.5->spacy<3.1.0,>=3.0.1->en-core-sci-md==0.4.0) (5.2.1)\n",
      "Requirement already satisfied: urllib3!=1.25.0,!=1.25.1,<1.26,>=1.21.1 in c:\\users\\paula\\anaconda3\\lib\\site-packages (from requests<3.0.0,>=2.13.0->spacy<3.1.0,>=3.0.1->en-core-sci-md==0.4.0) (1.25.11)\n",
      "Requirement already satisfied: idna<3,>=2.5 in c:\\users\\paula\\anaconda3\\lib\\site-packages (from requests<3.0.0,>=2.13.0->spacy<3.1.0,>=3.0.1->en-core-sci-md==0.4.0) (2.10)\n",
      "Requirement already satisfied: chardet<4,>=3.0.2 in c:\\users\\paula\\anaconda3\\lib\\site-packages (from requests<3.0.0,>=2.13.0->spacy<3.1.0,>=3.0.1->en-core-sci-md==0.4.0) (3.0.4)\n",
      "Requirement already satisfied: certifi>=2017.4.17 in c:\\users\\paula\\anaconda3\\lib\\site-packages (from requests<3.0.0,>=2.13.0->spacy<3.1.0,>=3.0.1->en-core-sci-md==0.4.0) (2020.6.20)\n",
      "Requirement already satisfied: typing-extensions>=3.7.4.3 in c:\\users\\paula\\anaconda3\\lib\\site-packages (from pydantic!=1.8,!=1.8.1,<1.9.0,>=1.7.4->spacy<3.1.0,>=3.0.1->en-core-sci-md==0.4.0) (3.7.4.3)\n",
      "Requirement already satisfied: MarkupSafe>=0.23 in c:\\users\\paula\\anaconda3\\lib\\site-packages (from jinja2->spacy<3.1.0,>=3.0.1->en-core-sci-md==0.4.0) (1.1.1)\n",
      "Building wheels for collected packages: en-core-sci-md\n",
      "Note: you may need to restart the kernel to use updated packages.  Building wheel for en-core-sci-md (setup.py): started\n",
      "\n",
      "  Building wheel for en-core-sci-md (setup.py): finished with status 'done'\n",
      "  Created wheel for en-core-sci-md: filename=en_core_sci_md-0.4.0-py3-none-any.whl size=125733936 sha256=6a2c07e938aef3dd931b9a1bef8dfa98616b3f5027bcaa2d9a624c8b661ec276\n",
      "  Stored in directory: c:\\users\\paula\\appdata\\local\\pip\\cache\\wheels\\a8\\fe\\35\\8e1b0b2344dec05968be4bd19375f14f5270199ab7fad5e3f5\n",
      "Successfully built en-core-sci-md\n",
      "Installing collected packages: en-core-sci-md\n",
      "Successfully installed en-core-sci-md-0.4.0\n"
     ]
    }
   ],
   "source": [
    "pip install \"C:\\Users\\Paula\\Downloads\\en_core_sci_md-0.4.0.tar.gz\""
   ]
  },
  {
   "cell_type": "code",
   "execution_count": 94,
   "metadata": {},
   "outputs": [],
   "source": [
    "import spacy\n",
    "nlp = spacy.load(\"en_core_sci_md\")\n",
    "preprocessed = text\n",
    "doc = nlp(preprocessed)"
   ]
  },
  {
   "cell_type": "code",
   "execution_count": 95,
   "metadata": {
    "scrolled": true
   },
   "outputs": [
    {
     "name": "stdout",
     "output_type": "stream",
     "text": [
      "(LABORATORY FOR MOLECULAR MEDICINE, Ateaching affliate, Fax, TPAAINLINEINO, Accession, ID, DOB, MRN, Family, Sex, Male, Specimen, physician, Race, Received, facility, MEDSEQ\n",
      "GENERAL GENOME REPORT\n",
      "\n",
      "RESULT SUMMARY\n",
      "\n",
      "Sequencing, individual's, genome, positions, 8X, coverage, higher, variants, reference genome, data, analyzed, variants, potential, clinical, relevance, novel, variants, disease, methodology, results, page, pages, A. MONOGENIC DISEASE, AL, X-linked recessive, Abnormal, bone, cartilage ARSE, Gly137Ala, Significance, development, Favor, pathogenic\n",
      "(X-linked)\n",
      "\n",
      "B. CARRIER, carrier status, autosomal recessive disorders, Methylmalonic aciduria, Disorder, cobalamin, MMACHC, c.271_272insA, Pathogenic\n",
      "homocystinuria, cbIC, Automosal recessive)\n",
      "B2, Leber congenital amaurosis\n",
      ", Automosal recessive, carrier, recessive genetic variants, individual, higher, risk, child, penetrant disorders, risk, individual's, future, children, affected, individual, tested, variants, biologically, family members, carriers, variants, Carriers, recessive disorders, risk, phenotypes, variant, descriptions, information, SPATAT, ¢.94, Retinal dystrophy, blindness, C. PHARMACOGENOMIC, identified, pharmacogenomic, associations, pharmacogenomic results, molecular confirmation, disclosure, Riskand, Dosing, information, CL, Warfarin, Decreased dose, requirement, Clopidogrel, Typical response, clopidogrel, Digoxin, Intermediate metabolism, serum, concentration, digoxin\n",
      "C4, Metformin, Intermediate glycemic response, metformin, Typical risk, simvastatin-related myopathy\n",
      "\n",
      "D. BLOOD GROUPS\n",
      "This test, identified, ABO, Rh blood type, B Positive, blood group, information, report, disease risk section, report, variants, evidence, penetrant\n",
      "disease, penetrant disease, recessive, variants, identified, analyzed, regions, genome, sequenced, results, context, patient, evaluation, family history, racial/ethnic background, variant, classification, interpretation, time, information, questions, report, contact, Genome Resource Center, GRC@partners.org)\n"
     ]
    }
   ],
   "source": [
    "print(doc.ents)"
   ]
  },
  {
   "cell_type": "code",
   "execution_count": 79,
   "metadata": {},
   "outputs": [
    {
     "name": "stdout",
     "output_type": "stream",
     "text": [
      "Collecting yake\n",
      "  Downloading yake-0.4.8-py2.py3-none-any.whl (60 kB)\n",
      "Collecting segtok\n",
      "  Downloading segtok-1.5.11-py3-none-any.whl (24 kB)\n",
      "Collecting jellyfish\n",
      "  Downloading jellyfish-0.9.0-cp38-cp38-win_amd64.whl (26 kB)\n",
      "Requirement already satisfied: networkx in c:\\users\\paula\\anaconda3\\lib\\site-packages (from yake) (2.5)\n",
      "Requirement already satisfied: click>=6.0 in c:\\users\\paula\\anaconda3\\lib\\site-packages (from yake) (7.1.2)\n",
      "Requirement already satisfied: tabulate in c:\\users\\paula\\anaconda3\\lib\\site-packages (from yake) (0.8.9)\n",
      "Requirement already satisfied: numpy in c:\\users\\paula\\anaconda3\\lib\\site-packages (from yake) (1.19.2)\n",
      "Requirement already satisfied: regex in c:\\users\\paula\\anaconda3\\lib\\site-packages (from segtok->yake) (2020.10.15)\n",
      "Requirement already satisfied: decorator>=4.3.0 in c:\\users\\paula\\anaconda3\\lib\\site-packages (from networkx->yake) (4.4.2)\n",
      "Installing collected packages: segtok, jellyfish, yake\n",
      "Successfully installed jellyfish-0.9.0 segtok-1.5.11 yake-0.4.8\n"
     ]
    }
   ],
   "source": [
    "!pip install yake"
   ]
  },
  {
   "cell_type": "code",
   "execution_count": 84,
   "metadata": {},
   "outputs": [],
   "source": [
    "import yake\n",
    "kw_extractor = yake.KeywordExtractor()\n",
    "language = \"en\"\n",
    "max_ngram = 2\n",
    "deduplication_threshold = 0.9\n",
    "numOfKeywords = 10\n",
    "custom_extractor = yake.KeywordExtractor(lan=language, n=max_ngram, dedupLim=deduplication_threshold,\n",
    "                                          top=numOfKeywords, features=None)"
   ]
  },
  {
   "cell_type": "code",
   "execution_count": 91,
   "metadata": {
    "scrolled": true
   },
   "outputs": [],
   "source": [
    "keywords = custom_extractor.extract_keywords(preprocessed)"
   ]
  },
  {
   "cell_type": "code",
   "execution_count": 92,
   "metadata": {},
   "outputs": [
    {
     "name": "stdout",
     "output_type": "stream",
     "text": [
      "('Landsdowne Street', 0.004822324706406)\n",
      "('MEDICINE Ateaching', 0.014524225614046303)\n",
      "('Ateaching affliate', 0.018619478145427467)\n",
      "('PERSONALIZED Hae', 0.047091365045539735)\n",
      "('MEDICINE SCHOOL', 0.05534662153717464)\n",
      "('variants', 0.05678898933590973)\n",
      "('Cambridge', 0.0638434035803247)\n",
      "('RISK', 0.06406581940596359)\n",
      "('IDENTIFIED', 0.06754994857879287)\n",
      "('LABORATORY', 0.0692761249992561)\n"
     ]
    }
   ],
   "source": [
    "for kw in keywords:\n",
    "    print(kw)"
   ]
  },
  {
   "cell_type": "code",
   "execution_count": null,
   "metadata": {},
   "outputs": [],
   "source": []
  },
  {
   "cell_type": "code",
   "execution_count": null,
   "metadata": {},
   "outputs": [],
   "source": []
  }
 ],
 "metadata": {
  "kernelspec": {
   "display_name": "Python 3",
   "language": "python",
   "name": "python3"
  },
  "language_info": {
   "codemirror_mode": {
    "name": "ipython",
    "version": 3
   },
   "file_extension": ".py",
   "mimetype": "text/x-python",
   "name": "python",
   "nbconvert_exporter": "python",
   "pygments_lexer": "ipython3",
   "version": "3.8.5"
  }
 },
 "nbformat": 4,
 "nbformat_minor": 4
}
